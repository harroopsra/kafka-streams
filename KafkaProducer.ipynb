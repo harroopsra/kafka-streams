{
 "cells": [
  {
   "cell_type": "code",
   "execution_count": 1,
   "id": "6eef110c",
   "metadata": {},
   "outputs": [
    {
     "name": "stdout",
     "output_type": "stream",
     "text": [
      "Collecting kafka-python\n",
      "  Downloading kafka_python-2.0.2-py2.py3-none-any.whl (246 kB)\n",
      "\u001b[2K     \u001b[90m━━━━━━━━━━━━━━━━━━━━━━━━━━━━━━━━━━━━━━━\u001b[0m \u001b[32m246.5/246.5 kB\u001b[0m \u001b[31m5.0 MB/s\u001b[0m eta \u001b[36m0:00:00\u001b[0ma \u001b[36m0:00:01\u001b[0m\n",
      "\u001b[?25hInstalling collected packages: kafka-python\n",
      "Successfully installed kafka-python-2.0.2\n",
      "Note: you may need to restart the kernel to use updated packages.\n"
     ]
    }
   ],
   "source": [
    "pip install kafka-python"
   ]
  },
  {
   "cell_type": "code",
   "execution_count": 2,
   "id": "802cf063",
   "metadata": {},
   "outputs": [],
   "source": [
    "import pandas as pd\n",
    "from kafka import KafkaConsumer, KafkaProducer\n",
    "from time import sleep\n",
    "from json import dumps\n",
    "import json"
   ]
  },
  {
   "cell_type": "code",
   "execution_count": 3,
   "id": "e6073fd0",
   "metadata": {},
   "outputs": [],
   "source": [
    "producer = KafkaProducer(bootstrap_servers=HIDDEN, \n",
    "                         value_serializer=lambda x: \n",
    "                         dumps(x).encode('utf-8'))"
   ]
  },
  {
   "cell_type": "code",
   "execution_count": 23,
   "id": "2e75370d",
   "metadata": {},
   "outputs": [
    {
     "data": {
      "text/plain": [
       "<kafka.producer.future.FutureRecordMetadata at 0x164a939d0>"
      ]
     },
     "execution_count": 23,
     "metadata": {},
     "output_type": "execute_result"
    }
   ],
   "source": [
    "producer.send('demo_testing2',value={'Hey':'there'})"
   ]
  },
  {
   "cell_type": "code",
   "execution_count": 24,
   "id": "696ce389",
   "metadata": {},
   "outputs": [],
   "source": [
    "#Read in data from a file stored locally\n",
    "df = pd.read_csv(\"data/HSI_2023.csv\")"
   ]
  },
  {
   "cell_type": "code",
   "execution_count": 33,
   "id": "f9bb33c7",
   "metadata": {},
   "outputs": [
    {
     "data": {
      "text/html": [
       "<div>\n",
       "<style scoped>\n",
       "    .dataframe tbody tr th:only-of-type {\n",
       "        vertical-align: middle;\n",
       "    }\n",
       "\n",
       "    .dataframe tbody tr th {\n",
       "        vertical-align: top;\n",
       "    }\n",
       "\n",
       "    .dataframe thead th {\n",
       "        text-align: right;\n",
       "    }\n",
       "</style>\n",
       "<table border=\"1\" class=\"dataframe\">\n",
       "  <thead>\n",
       "    <tr style=\"text-align: right;\">\n",
       "      <th></th>\n",
       "      <th>Date</th>\n",
       "      <th>Open</th>\n",
       "      <th>High</th>\n",
       "      <th>Low</th>\n",
       "      <th>Close</th>\n",
       "      <th>Volume</th>\n",
       "      <th>Adjusted</th>\n",
       "    </tr>\n",
       "  </thead>\n",
       "  <tbody>\n",
       "    <tr>\n",
       "      <th>0</th>\n",
       "      <td>2022-03-01</td>\n",
       "      <td>22739.839844</td>\n",
       "      <td>22937.560547</td>\n",
       "      <td>22591.730469</td>\n",
       "      <td>22761.710938</td>\n",
       "      <td>1796043100</td>\n",
       "      <td>22761.710938</td>\n",
       "    </tr>\n",
       "    <tr>\n",
       "      <th>1</th>\n",
       "      <td>2022-03-02</td>\n",
       "      <td>22568.359375</td>\n",
       "      <td>22712.439453</td>\n",
       "      <td>22299.140625</td>\n",
       "      <td>22343.919922</td>\n",
       "      <td>2227896000</td>\n",
       "      <td>22343.919922</td>\n",
       "    </tr>\n",
       "    <tr>\n",
       "      <th>2</th>\n",
       "      <td>2022-03-03</td>\n",
       "      <td>22434.259766</td>\n",
       "      <td>22543.419922</td>\n",
       "      <td>22378.109375</td>\n",
       "      <td>22467.339844</td>\n",
       "      <td>1937725100</td>\n",
       "      <td>22467.339844</td>\n",
       "    </tr>\n",
       "    <tr>\n",
       "      <th>3</th>\n",
       "      <td>2022-03-04</td>\n",
       "      <td>21879.130859</td>\n",
       "      <td>22017.939453</td>\n",
       "      <td>21838.990234</td>\n",
       "      <td>21905.289063</td>\n",
       "      <td>2438205000</td>\n",
       "      <td>21905.289063</td>\n",
       "    </tr>\n",
       "    <tr>\n",
       "      <th>4</th>\n",
       "      <td>2022-03-07</td>\n",
       "      <td>21308.900391</td>\n",
       "      <td>21327.189453</td>\n",
       "      <td>20826.359375</td>\n",
       "      <td>21057.630859</td>\n",
       "      <td>3322870000</td>\n",
       "      <td>21057.630859</td>\n",
       "    </tr>\n",
       "  </tbody>\n",
       "</table>\n",
       "</div>"
      ],
      "text/plain": [
       "         Date          Open          High           Low         Close  \\\n",
       "0  2022-03-01  22739.839844  22937.560547  22591.730469  22761.710938   \n",
       "1  2022-03-02  22568.359375  22712.439453  22299.140625  22343.919922   \n",
       "2  2022-03-03  22434.259766  22543.419922  22378.109375  22467.339844   \n",
       "3  2022-03-04  21879.130859  22017.939453  21838.990234  21905.289063   \n",
       "4  2022-03-07  21308.900391  21327.189453  20826.359375  21057.630859   \n",
       "\n",
       "       Volume      Adjusted  \n",
       "0  1796043100  22761.710938  \n",
       "1  2227896000  22343.919922  \n",
       "2  1937725100  22467.339844  \n",
       "3  2438205000  21905.289063  \n",
       "4  3322870000  21057.630859  "
      ]
     },
     "execution_count": 33,
     "metadata": {},
     "output_type": "execute_result"
    }
   ],
   "source": [
    "df.head()"
   ]
  },
  {
   "cell_type": "code",
   "execution_count": null,
   "id": "7c83fca0",
   "metadata": {},
   "outputs": [],
   "source": [
    "while True:\n",
    "    stock = df.sample(1).to_dict(orient=\"records\")[0]\n",
    "    producer.send('demo_testing2',value=stock)\n",
    "    sleep(1)"
   ]
  },
  {
   "cell_type": "code",
   "execution_count": 51,
   "id": "41374c0f",
   "metadata": {},
   "outputs": [],
   "source": [
    "producer.flush()"
   ]
  },
  {
   "cell_type": "code",
   "execution_count": null,
   "id": "ee7bf1cf",
   "metadata": {},
   "outputs": [],
   "source": []
  }
 ],
 "metadata": {
  "kernelspec": {
   "display_name": "Python 3 (ipykernel)",
   "language": "python",
   "name": "python3"
  },
  "language_info": {
   "codemirror_mode": {
    "name": "ipython",
    "version": 3
   },
   "file_extension": ".py",
   "mimetype": "text/x-python",
   "name": "python",
   "nbconvert_exporter": "python",
   "pygments_lexer": "ipython3",
   "version": "3.11.5"
  }
 },
 "nbformat": 4,
 "nbformat_minor": 5
}
